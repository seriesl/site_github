{
 "cells": [
  {
   "cell_type": "code",
   "execution_count": null,
   "id": "e5a9bb11",
   "metadata": {
    "vscode": {
     "languageId": "yaml"
    }
   },
   "outputs": [],
   "source": [
    "---\n",
    "title: Plotly example\n",
    "format:\n",
    "  html:\n",
    "    code-fold: true\n",
    "execute:\n",
    "  enabled: true\n",
    "---"
   ]
  },
  {
   "cell_type": "code",
   "execution_count": null,
   "id": "ed040807",
   "metadata": {},
   "outputs": [],
   "source": [
    "import plotly.graph_objects as go\n",
    "import numpy as np"
   ]
  },
  {
   "cell_type": "code",
   "execution_count": null,
   "id": "865643a1",
   "metadata": {},
   "outputs": [],
   "source": [
    "#| echo: true\n",
    "\n",
    "x = np.linspace(0, 4*np.pi, 500)\n",
    "\n",
    "fig = go.Figure()\n",
    "fig.add_trace(go.Scatter(x=x, y=np.sin(x), name='sin(x)'))\n",
    "fig.add_trace(go.Scatter(x=x, y=np.cos(x), name='cos(x)'))\n",
    "fig.show()"
   ]
  }
 ],
 "metadata": {
  "kernelspec": {
   "display_name": "python3",
   "language": "python",
   "name": "python3"
  },
  "language_info": {
   "codemirror_mode": {
    "name": "ipython",
    "version": 3
   },
   "file_extension": ".py",
   "mimetype": "text/x-python",
   "name": "python",
   "nbconvert_exporter": "python",
   "pygments_lexer": "ipython3",
   "version": "3.13.5"
  }
 },
 "nbformat": 4,
 "nbformat_minor": 5
}
